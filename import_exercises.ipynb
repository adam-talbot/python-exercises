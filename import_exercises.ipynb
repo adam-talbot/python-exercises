{
 "cells": [
  {
   "cell_type": "markdown",
   "id": "14d37363",
   "metadata": {},
   "source": [
    "#### 1c. Create a jupyter notebook named import_exercises.ipynb. Use from to import the get_letter_grade function and give it an alias. Test this function in your notebook."
   ]
  },
  {
   "cell_type": "code",
   "execution_count": 1,
   "id": "ee7ba725",
   "metadata": {},
   "outputs": [
    {
     "name": "stdout",
     "output_type": "stream",
     "text": [
      "True\n",
      "True\n",
      "False\n",
      "True\n",
      "False\n",
      "False\n",
      "True\n",
      "Hello\n",
      "exactly\n"
     ]
    }
   ],
   "source": [
    "from function_exercises import get_letter_grade as glg #import"
   ]
  },
  {
   "cell_type": "code",
   "execution_count": 2,
   "id": "5ff02f59",
   "metadata": {},
   "outputs": [
    {
     "data": {
      "text/plain": [
       "'A'"
      ]
     },
     "execution_count": 2,
     "metadata": {},
     "output_type": "execute_result"
    }
   ],
   "source": [
    "glg(90) #test, appears to be working properly"
   ]
  },
  {
   "cell_type": "markdown",
   "id": "1a5d3b9e",
   "metadata": {},
   "source": [
    "#### Read about and use the itertools module from the python standard library to help you solve the following problems:\n",
    "\n",
    "- How many different ways can you combine the letters from \"abc\" with the numbers 1, 2, and 3?\n",
    "- How many different combinations are there of 2 letters from \"abcd\"?\n",
    "- How many different permutations are there of 2 letters from \"abcd\"?"
   ]
  },
  {
   "cell_type": "code",
   "execution_count": 3,
   "id": "c387c753",
   "metadata": {},
   "outputs": [],
   "source": [
    "import itertools as it"
   ]
  },
  {
   "cell_type": "code",
   "execution_count": 4,
   "id": "c3a0a6ef",
   "metadata": {},
   "outputs": [
    {
     "data": {
      "text/plain": [
       "[('a', '1'),\n",
       " ('a', '2'),\n",
       " ('a', '3'),\n",
       " ('b', '1'),\n",
       " ('b', '2'),\n",
       " ('b', '3'),\n",
       " ('c', '1'),\n",
       " ('c', '2'),\n",
       " ('c', '3')]"
      ]
     },
     "execution_count": 4,
     "metadata": {},
     "output_type": "execute_result"
    }
   ],
   "source": [
    "# How many different ways can you combine the letters from \"abc\" with the numbers 1, 2, and 3?\n",
    "# not sure what this one is asking yet, this is my interpretation\n",
    "list(it.product(\"abc\", \"123\"))\n",
    "# 9 combinations"
   ]
  },
  {
   "cell_type": "code",
   "execution_count": 5,
   "id": "4bc2cdfd",
   "metadata": {},
   "outputs": [
    {
     "data": {
      "text/plain": [
       "[('a', 'b'), ('a', 'c'), ('a', 'd'), ('b', 'c'), ('b', 'd'), ('c', 'd')]"
      ]
     },
     "execution_count": 5,
     "metadata": {},
     "output_type": "execute_result"
    }
   ],
   "source": [
    "# How many different combinations are there of 2 letters from \"abcd\"?\n",
    "list(it.combinations(\"abcd\",2))\n",
    "# 6 combinations"
   ]
  },
  {
   "cell_type": "code",
   "execution_count": 6,
   "id": "cb5ea887",
   "metadata": {},
   "outputs": [
    {
     "data": {
      "text/plain": [
       "[('a', 'b'),\n",
       " ('a', 'c'),\n",
       " ('a', 'd'),\n",
       " ('b', 'a'),\n",
       " ('b', 'c'),\n",
       " ('b', 'd'),\n",
       " ('c', 'a'),\n",
       " ('c', 'b'),\n",
       " ('c', 'd'),\n",
       " ('d', 'a'),\n",
       " ('d', 'b'),\n",
       " ('d', 'c')]"
      ]
     },
     "execution_count": 6,
     "metadata": {},
     "output_type": "execute_result"
    }
   ],
   "source": [
    "# How many different permutations are there of 2 letters from \"abcd\"?\n",
    "list(it.permutations(\"abcd\",2))\n",
    "# 12 permutations"
   ]
  },
  {
   "cell_type": "markdown",
   "id": "42805909",
   "metadata": {},
   "source": [
    "#### 3. Save this file as profiles.json inside of your exercises directory (right click -> save file as...).\n",
    "- Use the load function from the json module to open this file.\n",
    "- Your code should produce a list of dictionaries. Using this data, write some code that calculates and outputs the following information:\n",
    "    - Total number of users\n",
    "    - Number of active users\n",
    "    - Number of inactive users\n",
    "    - Grand total of balances for all users\n",
    "    - Average balance per user\n",
    "    - User with the lowest balance\n",
    "    - User with the highest balance\n",
    "    - Most common favorite fruit\n",
    "    - Least most common favorite fruit\n",
    "    - Total number of unread messages for all users"
   ]
  },
  {
   "cell_type": "code",
   "execution_count": 7,
   "id": "200c6555",
   "metadata": {},
   "outputs": [],
   "source": [
    "# Use the load function from the json module to open this file.\n",
    "\n",
    "import json #import needed module\n",
    "\n",
    "user_info = json.load(open('profiles.json')) #use function from that module to open json file\n",
    "\n",
    "#print(user_info) #print to see what's going on"
   ]
  },
  {
   "cell_type": "code",
   "execution_count": 8,
   "id": "b12bce04",
   "metadata": {},
   "outputs": [],
   "source": [
    "# json.load(open('profiles.json')) #this formats output differently to make it more readable"
   ]
  },
  {
   "cell_type": "code",
   "execution_count": 9,
   "id": "b2fafe17",
   "metadata": {},
   "outputs": [
    {
     "data": {
      "text/plain": [
       "19"
      ]
     },
     "execution_count": 9,
     "metadata": {},
     "output_type": "execute_result"
    }
   ],
   "source": [
    "# Total number of users\n",
    "num_users = len(user_info)\n",
    "num_users"
   ]
  },
  {
   "cell_type": "code",
   "execution_count": 10,
   "id": "a8bfeb94",
   "metadata": {},
   "outputs": [
    {
     "name": "stdout",
     "output_type": "stream",
     "text": [
      "19\n"
     ]
    }
   ],
   "source": [
    "# Total number of users\n",
    "counter = 0\n",
    "for dict in user_info:\n",
    "    counter += 1\n",
    "    \n",
    "print(counter)"
   ]
  },
  {
   "cell_type": "code",
   "execution_count": 11,
   "id": "f13ba9d4",
   "metadata": {},
   "outputs": [
    {
     "name": "stdout",
     "output_type": "stream",
     "text": [
      "9\n"
     ]
    }
   ],
   "source": [
    "# Number of active users\n",
    "counter = 0\n",
    "for dict in user_info:\n",
    "    if dict[\"isActive\"] == True:\n",
    "        counter += 1\n",
    "print(counter)"
   ]
  },
  {
   "cell_type": "code",
   "execution_count": 12,
   "id": "149c34e7",
   "metadata": {},
   "outputs": [
    {
     "name": "stdout",
     "output_type": "stream",
     "text": [
      "10\n"
     ]
    }
   ],
   "source": [
    "# Number of inactive users\n",
    "counter = 0\n",
    "for dict in user_info:\n",
    "    if dict[\"isActive\"] == False:\n",
    "        counter += 1\n",
    "print(counter)"
   ]
  },
  {
   "cell_type": "code",
   "execution_count": 13,
   "id": "410601bd",
   "metadata": {},
   "outputs": [
    {
     "name": "stdout",
     "output_type": "stream",
     "text": [
      "52667.02\n"
     ]
    }
   ],
   "source": [
    "# Grand total of balances for all users\n",
    "sum = 0\n",
    "new_string = str()\n",
    "for dict in user_info:\n",
    "    new_string = dict['balance'].replace('$','').replace(',','')\n",
    "    new_string = float(new_string)\n",
    "    sum += new_string\n",
    "\n",
    "print(sum)\n",
    "        \n"
   ]
  },
  {
   "cell_type": "code",
   "execution_count": 14,
   "id": "4bb314ec",
   "metadata": {},
   "outputs": [
    {
     "name": "stdout",
     "output_type": "stream",
     "text": [
      "2771.9484210526316\n"
     ]
    }
   ],
   "source": [
    "# Average balance per user\n",
    "\n",
    "average_balance = (sum/len(user_info))\n",
    "print(average_balance)"
   ]
  },
  {
   "cell_type": "code",
   "execution_count": 15,
   "id": "9d2bfefb",
   "metadata": {},
   "outputs": [
    {
     "name": "stdout",
     "output_type": "stream",
     "text": [
      "Avery Flynn\n"
     ]
    }
   ],
   "source": [
    "# User with the lowest balance\n",
    "# use lambda function\n",
    "min_balance_entry = min(user_info, key=lambda n: n[\"balance\"])\n",
    "user_name = min_balance_entry[\"name\"]\n",
    "print(user_name)"
   ]
  },
  {
   "cell_type": "code",
   "execution_count": 16,
   "id": "e22394ca",
   "metadata": {},
   "outputs": [
    {
     "name": "stdout",
     "output_type": "stream",
     "text": [
      "Fay Hammond\n"
     ]
    }
   ],
   "source": [
    "# User with the highest balance\n",
    "# use lambda function\n",
    "max_balance_entry = max(user_info, key=lambda n: n[\"balance\"])\n",
    "user_name = max_balance_entry[\"name\"]\n",
    "print(user_name)"
   ]
  },
  {
   "cell_type": "code",
   "execution_count": 17,
   "id": "266d73c3",
   "metadata": {},
   "outputs": [
    {
     "data": {
      "text/plain": [
       "'strawberry'"
      ]
     },
     "execution_count": 17,
     "metadata": {},
     "output_type": "execute_result"
    }
   ],
   "source": [
    "# Most common favorite fruit\n",
    "ffcounts = {}\n",
    "for i in range(num_users):\n",
    "    if user_info[i][\"favoriteFruit\"] in ffcounts.keys():\n",
    "        ffcounts[user_info[i][\"favoriteFruit\"]] += 1\n",
    "    else:\n",
    "        ffcounts[user_info[i][\"favoriteFruit\"]] = 1\n",
    "max(ffcounts)\n",
    "        "
   ]
  },
  {
   "cell_type": "code",
   "execution_count": 18,
   "id": "9451b109",
   "metadata": {},
   "outputs": [
    {
     "data": {
      "text/plain": [
       "'apple'"
      ]
     },
     "execution_count": 18,
     "metadata": {},
     "output_type": "execute_result"
    }
   ],
   "source": [
    "# Least most common favorite fruit\n",
    "ffcounts = {}\n",
    "for i in range(num_users):\n",
    "    if user_info[i][\"favoriteFruit\"] in ffcounts.keys():\n",
    "        ffcounts[user_info[i][\"favoriteFruit\"]] += 1\n",
    "    else:\n",
    "        ffcounts[user_info[i][\"favoriteFruit\"]] = 1\n",
    "min(ffcounts)"
   ]
  },
  {
   "cell_type": "code",
   "execution_count": 19,
   "id": "af80a850",
   "metadata": {},
   "outputs": [],
   "source": [
    "# Total number of unread messages for all users\n",
    "\n",
    "# example from dictionary: 'greeting': 'Hello, Jacobs Floyd! You have 5 unread messages.',\n",
    "# this info is in the greeting key\n",
    "# for loop to iterate through list of dictionaries\n",
    "# for loop to iterate through greeting key for each dictionary\n",
    "# isnumeric() string method to check each character\n",
    "# if the character is numeric add it to new string that will contain number of messages\n",
    "# convert this to integer to get final number for each user\n",
    "# add this number to a list or dictionary (dictionary not needed since they aren't \n",
    "# asking for names to be associated with numbers, but might be good practice)\n",
    "# sum entries in newly created list"
   ]
  },
  {
   "cell_type": "code",
   "execution_count": 20,
   "id": "5d3f9aec",
   "metadata": {},
   "outputs": [
    {
     "name": "stdout",
     "output_type": "stream",
     "text": [
      "True\n"
     ]
    }
   ],
   "source": [
    "# make sure I remember how the isnumeric string method works\n",
    "txt = \"565543\"\n",
    "\n",
    "x = txt.isnumeric()\n",
    "\n",
    "print(x)"
   ]
  },
  {
   "cell_type": "code",
   "execution_count": 21,
   "id": "091d5f23",
   "metadata": {},
   "outputs": [
    {
     "data": {
      "text/plain": [
       "5"
      ]
     },
     "execution_count": 21,
     "metadata": {},
     "output_type": "execute_result"
    }
   ],
   "source": [
    "# for loop to iterate through one long example string from dictionary\n",
    "string = 'Hello, Jacobs Floyd! You have 5 unread messages.'\n",
    "num_unread_messages_str = str()\n",
    "for char in string:\n",
    "    if char.isnumeric() == True:\n",
    "        num_unread_messages_str += char\n",
    "int(num_unread_messages_str)\n",
    "        "
   ]
  },
  {
   "cell_type": "code",
   "execution_count": 22,
   "id": "60b3ed4d",
   "metadata": {},
   "outputs": [
    {
     "name": "stdout",
     "output_type": "stream",
     "text": [
      "19\n"
     ]
    }
   ],
   "source": [
    "# sum of a dictionary\n",
    "ffcounts\n",
    "list_of_values = ffcounts.values() \n",
    "sum = 0\n",
    "for value in list_of_values:\n",
    "    sum += value\n",
    "print(sum)\n"
   ]
  },
  {
   "cell_type": "code",
   "execution_count": 23,
   "id": "68ca219a",
   "metadata": {},
   "outputs": [
    {
     "name": "stdout",
     "output_type": "stream",
     "text": [
      "Hello, Hebert Estes! You have 4 unread messages.\n",
      "Hello, Allison Wynn! You have 19 unread messages.\n",
      "Hello, Jacobs Floyd! You have 5 unread messages.\n",
      "Hello, Fay Hammond! You have 10 unread messages.\n",
      "Hello, Chasity Marsh! You have 9 unread messages.\n",
      "Hello, Camacho Cortez! You have 19 unread messages.\n",
      "Hello, Avery Flynn! You have 13 unread messages.\n",
      "Hello, Michael Cash! You have 17 unread messages.\n",
      "Hello, Madeleine Bray! You have 2 unread messages.\n",
      "Hello, Corine French! You have 18 unread messages.\n",
      "Hello, Trudy Cummings! You have 2 unread messages.\n",
      "Hello, Peggy Mayer! You have 13 unread messages.\n",
      "Hello, Chan Hurley! You have 7 unread messages.\n",
      "Hello, Diaz Pena! You have 13 unread messages.\n",
      "Hello, Heath Castaneda! You have 12 unread messages.\n",
      "Hello, Greer Blankenship! You have 7 unread messages.\n",
      "Hello, Coffey Hayes! You have 19 unread messages.\n",
      "Hello, Leanne Hurst! You have 5 unread messages.\n",
      "Hello, Ewing Larson! You have 16 unread messages.\n"
     ]
    }
   ],
   "source": [
    "# print out all strings of greeting for all users to check I am accessing correct string\n",
    "for dict in user_info:\n",
    "    print(dict[\"greeting\"])"
   ]
  },
  {
   "cell_type": "code",
   "execution_count": 24,
   "id": "ed7102cd",
   "metadata": {},
   "outputs": [
    {
     "name": "stdout",
     "output_type": "stream",
     "text": [
      "[4, 19, 5, 10, 9, 19, 13, 17, 2, 18, 2, 13, 7, 13, 12, 7, 19, 5, 16]\n",
      "210\n"
     ]
    }
   ],
   "source": [
    "# put it all together to get list of unread message totals for each user\n",
    "list_of_unread_messages = []\n",
    "num_unread_messages_str = str()\n",
    "\n",
    "for dict in user_info:\n",
    "    \n",
    "    for char in dict[\"greeting\"]:\n",
    "        if char.isnumeric() == True:\n",
    "            num_unread_messages_str += char\n",
    "            \n",
    "    num_unread_messages_int = int(num_unread_messages_str)\n",
    "    list_of_unread_messages.append(num_unread_messages_int)\n",
    "    num_unread_messages_str = str()\n",
    "\n",
    "# calculate sum of all of the entries in the list\n",
    "sum = 0\n",
    "for messages in list_of_unread_messages:\n",
    "    sum += messages\n",
    "    \n",
    "print(list_of_unread_messages) # list of all unread message totals for each user\n",
    "print(sum) # sum of all unread messages for each user"
   ]
  }
 ],
 "metadata": {
  "kernelspec": {
   "display_name": "Python 3",
   "language": "python",
   "name": "python3"
  },
  "language_info": {
   "codemirror_mode": {
    "name": "ipython",
    "version": 3
   },
   "file_extension": ".py",
   "mimetype": "text/x-python",
   "name": "python",
   "nbconvert_exporter": "python",
   "pygments_lexer": "ipython3",
   "version": "3.8.8"
  }
 },
 "nbformat": 4,
 "nbformat_minor": 5
}
