{
 "cells": [
  {
   "cell_type": "code",
   "execution_count": 3,
   "id": "4dec70b5",
   "metadata": {},
   "outputs": [],
   "source": [
    "students = [\n",
    "    {\n",
    "        \"id\": \"100001\",\n",
    "        \"student\": \"Ada Lovelace\",\n",
    "        \"coffee_preference\": \"light\",\n",
    "        \"course\": \"web development\",\n",
    "        \"grades\": [70, 91, 82, 71],\n",
    "        \"pets\": [{\"species\": \"horse\", \"age\": 8}],\n",
    "    },\n",
    "    {\n",
    "        \"id\": \"100002\",\n",
    "        \"student\": \"Thomas Bayes\",\n",
    "        \"coffee_preference\": \"medium\",\n",
    "        \"course\": \"data science\",\n",
    "        \"grades\": [75, 73, 86, 100],\n",
    "        \"pets\": [],\n",
    "    },\n",
    "    {\n",
    "        \"id\": \"100003\",\n",
    "        \"student\": \"Marie Curie\",\n",
    "        \"coffee_preference\": \"light\",\n",
    "        \"course\": \"web development\",\n",
    "        \"grades\": [70, 89, 69, 65],\n",
    "        \"pets\": [{\"species\": \"cat\", \"age\": 0}],\n",
    "    },\n",
    "    {\n",
    "        \"id\": \"100004\",\n",
    "        \"student\": \"Grace Hopper\",\n",
    "        \"coffee_preference\": \"dark\",\n",
    "        \"course\": \"data science\",\n",
    "        \"grades\": [73, 66, 83, 92],\n",
    "        \"pets\": [{\"species\": \"dog\", \"age\": 4}, {\"species\": \"cat\", \"age\": 4}],\n",
    "    },\n",
    "    {\n",
    "        \"id\": \"100005\",\n",
    "        \"student\": \"Alan Turing\",\n",
    "        \"coffee_preference\": \"dark\",\n",
    "        \"course\": \"web development\",\n",
    "        \"grades\": [78, 98, 85, 65],\n",
    "        \"pets\": [\n",
    "            {\"species\": \"horse\", \"age\": 6},\n",
    "            {\"species\": \"horse\", \"age\": 7},\n",
    "            {\"species\": \"dog\", \"age\": 5},\n",
    "        ],\n",
    "    },\n",
    "    {\n",
    "        \"id\": \"100006\",\n",
    "        \"student\": \"Rosalind Franklin\",\n",
    "        \"coffee_preference\": \"dark\",\n",
    "        \"course\": \"data science\",\n",
    "        \"grades\": [76, 70, 96, 81],\n",
    "        \"pets\": [],\n",
    "    },\n",
    "    {\n",
    "        \"id\": \"100007\",\n",
    "        \"student\": \"Elizabeth Blackwell\",\n",
    "        \"coffee_preference\": \"dark\",\n",
    "        \"course\": \"web development\",\n",
    "        \"grades\": [69, 94, 89, 86],\n",
    "        \"pets\": [{\"species\": \"cat\", \"age\": 10}],\n",
    "    },\n",
    "    {\n",
    "        \"id\": \"100008\",\n",
    "        \"student\": \"Rene Descartes\",\n",
    "        \"coffee_preference\": \"medium\",\n",
    "        \"course\": \"data science\",\n",
    "        \"grades\": [87, 79, 90, 99],\n",
    "        \"pets\": [{\"species\": \"cat\", \"age\": 10}, {\"species\": \"cat\", \"age\": 8}],\n",
    "    },\n",
    "    {\n",
    "        \"id\": \"100009\",\n",
    "        \"student\": \"Ahmed Zewail\",\n",
    "        \"coffee_preference\": \"medium\",\n",
    "        \"course\": \"data science\",\n",
    "        \"grades\": [74, 99, 93, 89],\n",
    "        \"pets\": [{\"species\": \"cat\", \"age\": 0}, {\"species\": \"cat\", \"age\": 0}],\n",
    "    },\n",
    "    {\n",
    "        \"id\": \"100010\",\n",
    "        \"student\": \"Chien-Shiung Wu\",\n",
    "        \"coffee_preference\": \"medium\",\n",
    "        \"course\": \"web development\",\n",
    "        \"grades\": [82, 92, 91, 65],\n",
    "        \"pets\": [{\"species\": \"cat\", \"age\": 8}],\n",
    "    },\n",
    "    {\n",
    "        \"id\": \"100011\",\n",
    "        \"student\": \"William Sanford Nye\",\n",
    "        \"coffee_preference\": \"dark\",\n",
    "        \"course\": \"data science\",\n",
    "        \"grades\": [70, 92, 65, 99],\n",
    "        \"pets\": [{\"species\": \"cat\", \"age\": 8}, {\"species\": \"cat\", \"age\": 5}],\n",
    "    },\n",
    "    {\n",
    "        \"id\": \"100012\",\n",
    "        \"student\": \"Carl Sagan\",\n",
    "        \"coffee_preference\": \"medium\",\n",
    "        \"course\": \"data science\",\n",
    "        \"grades\": [100, 86, 91, 87],\n",
    "        \"pets\": [{\"species\": \"cat\", \"age\": 10}],\n",
    "    },\n",
    "    {\n",
    "        \"id\": \"100013\",\n",
    "        \"student\": \"Jane Goodall\",\n",
    "        \"coffee_preference\": \"light\",\n",
    "        \"course\": \"web development\",\n",
    "        \"grades\": [80, 70, 68, 98],\n",
    "        \"pets\": [{\"species\": \"horse\", \"age\": 4}],\n",
    "    },\n",
    "    {\n",
    "        \"id\": \"100014\",\n",
    "        \"student\": \"Richard Feynman\",\n",
    "        \"coffee_preference\": \"medium\",\n",
    "        \"course\": \"web development\",\n",
    "        \"grades\": [73, 99, 86, 98],\n",
    "        \"pets\": [{\"species\": \"dog\", \"age\": 6}],\n",
    "    },\n",
    "]"
   ]
  },
  {
   "cell_type": "markdown",
   "id": "73d77b02",
   "metadata": {},
   "source": [
    "- How many students are there?\n",
    "- How many students prefer light coffee? For each type of coffee roast?\n",
    "- How many types of each pet are there?\n",
    "- How many grades does each student have? Do they all have the same number of grades?\n",
    "- What is each student's grade average?\n",
    "- How many pets does each student have?\n",
    "- How many students are in web development? data science?\n",
    "- What is the average number of pets for students in web development?\n",
    "- What is the average pet age for students in data science?\n",
    "- What is most frequent coffee preference for data science students?\n",
    "- What is the least frequent coffee preference for web development students?\n",
    "- What is the average grade for students with at least 2 pets?\n",
    "- How many students have 3 pets?\n",
    "- What is the average grade for students with 0 pets?\n",
    "- What is the average grade for web development students? data science students?\n",
    "- What is the average grade range (i.e. highest grade - lowest grade) for dark coffee drinkers?\n",
    "- What is the average number of pets for medium coffee drinkers?\n",
    "- What is the most common type of pet for web development students?\n",
    "- What is the average name length?\n",
    "- What is the highest pet age for light coffee drinkers?"
   ]
  },
  {
   "cell_type": "code",
   "execution_count": 4,
   "id": "47bb1590",
   "metadata": {},
   "outputs": [
    {
     "data": {
      "text/plain": [
       "14"
      ]
     },
     "execution_count": 4,
     "metadata": {},
     "output_type": "execute_result"
    }
   ],
   "source": [
    "# How many students are there?\n",
    "len(students)"
   ]
  },
  {
   "cell_type": "code",
   "execution_count": 5,
   "id": "9c0d4988",
   "metadata": {},
   "outputs": [
    {
     "data": {
      "text/plain": [
       "3"
      ]
     },
     "execution_count": 5,
     "metadata": {},
     "output_type": "execute_result"
    }
   ],
   "source": [
    "# How many students prefer light coffee? For each type of coffee roast?\n",
    "light_counter = 0\n",
    "for dict in students:\n",
    "    if dict['coffee_preference'] == \"light\":\n",
    "        light_counter += 1\n",
    "light_counter"
   ]
  },
  {
   "cell_type": "code",
   "execution_count": 6,
   "id": "4ea9d749",
   "metadata": {},
   "outputs": [
    {
     "data": {
      "text/plain": [
       "6"
      ]
     },
     "execution_count": 6,
     "metadata": {},
     "output_type": "execute_result"
    }
   ],
   "source": [
    "# How many students prefer medium coffee?\n",
    "medium_counter = 0\n",
    "for dict in students:\n",
    "    if dict['coffee_preference'] == \"medium\":\n",
    "        medium_counter += 1\n",
    "medium_counter"
   ]
  },
  {
   "cell_type": "code",
   "execution_count": 7,
   "id": "390f2510",
   "metadata": {},
   "outputs": [
    {
     "data": {
      "text/plain": [
       "5"
      ]
     },
     "execution_count": 7,
     "metadata": {},
     "output_type": "execute_result"
    }
   ],
   "source": [
    "# How many students prefer dark coffee?\n",
    "dark_counter = 0\n",
    "for dict in students:\n",
    "    if dict['coffee_preference'] == \"dark\":\n",
    "        dark_counter += 1\n",
    "dark_counter"
   ]
  },
  {
   "cell_type": "code",
   "execution_count": 8,
   "id": "c3b5e675",
   "metadata": {},
   "outputs": [
    {
     "name": "stdout",
     "output_type": "stream",
     "text": [
      "{'light': 3, 'medium': 6, 'dark': 5}\n"
     ]
    }
   ],
   "source": [
    "# lets try to take it to the next level and add these to a new dictionary\n",
    "\n",
    "coffee_pref_counts = {\n",
    "    \"light\": 0,\n",
    "    \"medium\": 0,\n",
    "    \"dark\": 0\n",
    "}\n",
    "\n",
    "for dict in students:\n",
    "    if dict['coffee_preference'] == \"light\":\n",
    "        coffee_pref_counts[\"light\"] += 1\n",
    "    elif dict['coffee_preference'] == \"medium\":\n",
    "        coffee_pref_counts[\"medium\"] += 1\n",
    "    else:\n",
    "        coffee_pref_counts[\"dark\"] += 1\n",
    "\n",
    "print(coffee_pref_counts)"
   ]
  },
  {
   "cell_type": "code",
   "execution_count": 9,
   "id": "5557707c",
   "metadata": {},
   "outputs": [
    {
     "name": "stdout",
     "output_type": "stream",
     "text": [
      "{'id': '100001', 'student': 'Ada Lovelace', 'coffee_preference': 'light', 'course': 'web development', 'grades': [70, 91, 82, 71], 'pets': [{'species': 'horse', 'age': 8}]}\n"
     ]
    },
    {
     "data": {
      "text/plain": [
       "8"
      ]
     },
     "execution_count": 9,
     "metadata": {},
     "output_type": "execute_result"
    }
   ],
   "source": [
    "# experiment with accessing nested dictionaries\n",
    "print(students[0])\n",
    "students[0][\"pets\"][0][\"age\"]"
   ]
  },
  {
   "cell_type": "code",
   "execution_count": 10,
   "id": "e4fa7847",
   "metadata": {},
   "outputs": [
    {
     "name": "stdout",
     "output_type": "stream",
     "text": [
      "{'horse': 4, 'cat': 11, 'dog': 3}\n"
     ]
    }
   ],
   "source": [
    "# How many types of each pet are there?\n",
    "# pet entries in the list of dictionaries are nested lists of dictionaries\n",
    "pet_type_counts = {\n",
    "    \"horse\": 0,\n",
    "    \"cat\": 0,\n",
    "    \"dog\": 0\n",
    "}\n",
    "\n",
    "for dict in students:\n",
    "    for ndict in (dict[\"pets\"]):\n",
    "        if ndict[\"species\"] == 'horse':\n",
    "            pet_type_counts[\"horse\"] += 1\n",
    "        elif ndict[\"species\"] == 'dog':\n",
    "            pet_type_counts[\"dog\"] += 1\n",
    "        else:\n",
    "            pet_type_counts[\"cat\"] += 1\n",
    "            \n",
    "print(pet_type_counts)"
   ]
  },
  {
   "cell_type": "code",
   "execution_count": 11,
   "id": "7f625707",
   "metadata": {
    "scrolled": true
   },
   "outputs": [
    {
     "name": "stdout",
     "output_type": "stream",
     "text": [
      "{'Ada Lovelace': 4,\n",
      " 'Ahmed Zewail': 4,\n",
      " 'Alan Turing': 4,\n",
      " 'Carl Sagan': 4,\n",
      " 'Chien-Shiung Wu': 4,\n",
      " 'Elizabeth Blackwell': 4,\n",
      " 'Grace Hopper': 4,\n",
      " 'Jane Goodall': 4,\n",
      " 'Marie Curie': 4,\n",
      " 'Rene Descartes': 4,\n",
      " 'Richard Feynman': 4,\n",
      " 'Rosalind Franklin': 4,\n",
      " 'Thomas Bayes': 4,\n",
      " 'William Sanford Nye': 4}\n"
     ]
    }
   ],
   "source": [
    "# How many grades does each student have? Do they all have the same number of grades?\n",
    "import pprint as pp #makes printed dictionaries look a little letter and more readable\n",
    "\n",
    "grade_counts = {}\n",
    "\n",
    "for dict in students:\n",
    "    grade_counts[dict['student']] = len(dict['grades'])\n",
    "    \n",
    "pp.pprint(grade_counts)\n",
    "# they all have 4 grades"
   ]
  },
  {
   "cell_type": "code",
   "execution_count": 18,
   "id": "5eecb458",
   "metadata": {},
   "outputs": [
    {
     "name": "stdout",
     "output_type": "stream",
     "text": [
      "{'Ada Lovelace': 78.5,\n",
      " 'Ahmed Zewail': 88.75,\n",
      " 'Alan Turing': 81.5,\n",
      " 'Carl Sagan': 91.0,\n",
      " 'Chien-Shiung Wu': 82.5,\n",
      " 'Elizabeth Blackwell': 84.5,\n",
      " 'Grace Hopper': 78.5,\n",
      " 'Jane Goodall': 79.0,\n",
      " 'Marie Curie': 73.25,\n",
      " 'Rene Descartes': 88.75,\n",
      " 'Richard Feynman': 89.0,\n",
      " 'Rosalind Franklin': 80.75,\n",
      " 'Thomas Bayes': 83.5,\n",
      " 'William Sanford Nye': 81.5}\n"
     ]
    }
   ],
   "source": [
    "# What is each student's grade average?\n",
    "# same strategy, just change how I assign value to each key\n",
    "\n",
    "import pprint as pp #makes printed dictionaries look a little letter and more readable\n",
    "\n",
    "grade_averages = {}\n",
    "\n",
    "for dict in students:\n",
    "    grade_counts[dict['student']] = ((sum(dict['grades'])) / len(dict['grades']))\n",
    "    \n",
    "pp.pprint(grade_counts)"
   ]
  },
  {
   "cell_type": "code",
   "execution_count": 19,
   "id": "3321e417",
   "metadata": {
    "scrolled": false
   },
   "outputs": [
    {
     "name": "stdout",
     "output_type": "stream",
     "text": [
      "{'Ada Lovelace': 1,\n",
      " 'Ahmed Zewail': 2,\n",
      " 'Alan Turing': 3,\n",
      " 'Carl Sagan': 1,\n",
      " 'Chien-Shiung Wu': 1,\n",
      " 'Elizabeth Blackwell': 1,\n",
      " 'Grace Hopper': 2,\n",
      " 'Jane Goodall': 1,\n",
      " 'Marie Curie': 1,\n",
      " 'Rene Descartes': 2,\n",
      " 'Richard Feynman': 1,\n",
      " 'Rosalind Franklin': 0,\n",
      " 'Thomas Bayes': 0,\n",
      " 'William Sanford Nye': 2}\n"
     ]
    }
   ],
   "source": [
    "# How many pets does each student have?\n",
    "# similar approach, get length of list for each pet list of dictionaries\n",
    "\n",
    "import pprint as pp #makes printed dictionaries look a little letter and more readable\n",
    "\n",
    "pet_counts = {}\n",
    "\n",
    "for dict in students:\n",
    "    pet_counts[dict['student']] = len(dict['pets'])\n",
    "    \n",
    "pp.pprint(pet_counts)\n",
    "    "
   ]
  },
  {
   "cell_type": "code",
   "execution_count": 26,
   "id": "d6fce6d4",
   "metadata": {},
   "outputs": [
    {
     "name": "stdout",
     "output_type": "stream",
     "text": [
      "{'web development': 7, 'data science': 7, 'other': 0}\n"
     ]
    }
   ],
   "source": [
    "# How many students are in web development? data science?\n",
    "course_count = {\n",
    "    \"web development\" : 0,\n",
    "    \"data science\" : 0,\n",
    "    \"other\" : 0\n",
    "}\n",
    "\n",
    "for student in students:\n",
    "    if student[\"course\"] == \"web development\":\n",
    "        course_count[\"web development\"] += 1\n",
    "    elif student[\"course\"] == \"data science\":\n",
    "        course_count[\"data science\"] += 1\n",
    "    else:\n",
    "        course_count[\"other\"] += 1 # to make sure there aren't other courses I am not accounting for\n",
    "        \n",
    "print(course_count)"
   ]
  },
  {
   "cell_type": "code",
   "execution_count": 29,
   "id": "e87dfea6",
   "metadata": {},
   "outputs": [
    {
     "name": "stdout",
     "output_type": "stream",
     "text": [
      "{'web development': 7, 'data science': 7}\n"
     ]
    }
   ],
   "source": [
    "course_pop = {\"web development\": 0, \"data science\": 0}\n",
    "\n",
    "for student in students:\n",
    "    course_pop[student[\"course\"]] += 1 # not exactly sure how this one is working\n",
    "\n",
    "print(course_pop)"
   ]
  },
  {
   "cell_type": "code",
   "execution_count": 46,
   "id": "ab7e0220",
   "metadata": {},
   "outputs": [
    {
     "name": "stdout",
     "output_type": "stream",
     "text": [
      "{'data science': 9, 'web development': 9}\n",
      "{'data science': 1.2857142857142858, 'web development': 1.2857142857142858}\n"
     ]
    }
   ],
   "source": [
    "# What is the average number of pets for students in web development?\n",
    "# create counter for number of pets of students in each course\n",
    "avg_pets = {\n",
    "    \"data science\" : 0,\n",
    "    \"web development\" : 0\n",
    "}\n",
    "\n",
    "for student in students:\n",
    "    if student[\"course\"] == \"data science\":\n",
    "        avg_pets[\"data science\"] += len(student[\"pets\"])\n",
    "    else: \n",
    "        avg_pets[\"web development\"] += len(student[\"pets\"])\n",
    "        \n",
    "print(avg_pets)\n",
    "\n",
    "avg_pets[\"data science\"] /= course_pop[\"data science\"]\n",
    "avg_pets[\"web development\"] /= course_pop[\"web development\"]\n",
    "\n",
    "print(avg_pets)      "
   ]
  },
  {
   "cell_type": "code",
   "execution_count": 17,
   "id": "7c2ff70d",
   "metadata": {},
   "outputs": [],
   "source": [
    "# What is the average pet age for students in data science?\n",
    "# What is most frequent coffee preference for data science students?\n",
    "# What is the least frequent coffee preference for web development students?\n",
    "# What is the average grade for students with at least 2 pets?\n",
    "# How many students have 3 pets?\n",
    "# What is the average grade for students with 0 pets?\n",
    "# What is the average grade for web development students? data science students?\n",
    "# What is the average grade range (i.e. highest grade - lowest grade) for dark coffee drinkers?\n",
    "# What is the average number of pets for medium coffee drinkers?\n",
    "# What is the most common type of pet for web development students?\n",
    "# What is the average name length?\n",
    "# What is the highest pet age for light coffee drinkers?"
   ]
  },
  {
   "cell_type": "code",
   "execution_count": null,
   "id": "fbce1a20",
   "metadata": {},
   "outputs": [],
   "source": []
  }
 ],
 "metadata": {
  "kernelspec": {
   "display_name": "Python 3",
   "language": "python",
   "name": "python3"
  },
  "language_info": {
   "codemirror_mode": {
    "name": "ipython",
    "version": 3
   },
   "file_extension": ".py",
   "mimetype": "text/x-python",
   "name": "python",
   "nbconvert_exporter": "python",
   "pygments_lexer": "ipython3",
   "version": "3.8.8"
  }
 },
 "nbformat": 4,
 "nbformat_minor": 5
}
