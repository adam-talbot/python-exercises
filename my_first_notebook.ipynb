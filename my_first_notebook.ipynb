{
 "cells": [
  {
   "cell_type": "code",
   "execution_count": 1,
   "id": "c88516ef",
   "metadata": {},
   "outputs": [
    {
     "data": {
      "text/plain": [
       "4"
      ]
     },
     "execution_count": 1,
     "metadata": {},
     "output_type": "execute_result"
    }
   ],
   "source": [
    "2 * 2"
   ]
  },
  {
   "cell_type": "code",
   "execution_count": 2,
   "id": "f4f293b7",
   "metadata": {},
   "outputs": [
    {
     "name": "stdout",
     "output_type": "stream",
     "text": [
      "This is my first jupyter notebook\n"
     ]
    }
   ],
   "source": [
    "print(\"This is my first jupyter notebook\")"
   ]
  },
  {
   "cell_type": "code",
   "execution_count": 7,
   "id": "8dccff65",
   "metadata": {},
   "outputs": [
    {
     "name": "stdout",
     "output_type": "stream",
     "text": [
      "1\n",
      "1\n",
      "2\n",
      "2\n",
      "3\n",
      "3\n",
      "4\n",
      "4\n"
     ]
    }
   ],
   "source": [
    "counter = 0\n",
    "numbers = [1, 2, 3, 4]\n",
    "for i in numbers:\n",
    "    print(i)\n",
    "    counter += 1\n",
    "    print(counter)"
   ]
  },
  {
   "cell_type": "markdown",
   "id": "71a3024f",
   "metadata": {},
   "source": [
    "### Shortcuts:\n",
    "\n",
    "Run current cell: `shift + enter`\n",
    "\n",
    "Save and checkpoint: `command + s`\n",
    "\n",
    "Delete current cell when in command mode: `press d twice`\n",
    "\n",
    "Putting backticks around text will change formatting: `example`  "
   ]
  },
  {
   "cell_type": "code",
   "execution_count": null,
   "id": "26df5076",
   "metadata": {},
   "outputs": [],
   "source": []
  }
 ],
 "metadata": {
  "kernelspec": {
   "display_name": "Python 3",
   "language": "python",
   "name": "python3"
  },
  "language_info": {
   "codemirror_mode": {
    "name": "ipython",
    "version": 3
   },
   "file_extension": ".py",
   "mimetype": "text/x-python",
   "name": "python",
   "nbconvert_exporter": "python",
   "pygments_lexer": "ipython3",
   "version": "3.8.8"
  }
 },
 "nbformat": 4,
 "nbformat_minor": 5
}
